{
 "cells": [
  {
   "cell_type": "markdown",
   "metadata": {},
   "source": [
    "# Artificial Intelligence\n",
    "# 464/664\n",
    "# Assignment #5\n",
    "\n",
    "## General Directions for this Assignment\n",
    "\n",
    "00. We're using a Jupyter Notebook environment (tutorial available here: https://jupyter-notebook-beginner-guide.readthedocs.io/en/latest/what_is_jupyter.html),\n",
    "01. Read the entire notebook before beginning your work, \n",
    "02. Output format should be exactly as requested (it is your responsibility to make sure notebook looks as expected on Gradescope),\n",
    "03. Each helper function should be preceeded by documentation (Markdown cell), \n",
    "04. Each helper function should be followed by three assert-style unit tests,\n",
    "05. Functions should do only one thing,\n",
    "06. Check submission deadline on Gradescope, \n",
    "07. Rename the file to Last_First_assignment_5, \n",
    "08. Submit your notebook (as .ipynb, not PDF) using Gradescope, and\n",
    "09. Do not submit any other files.\n",
    "\n",
    "## Before You Submit...\n",
    "\n",
    "1. Re-read the general instructions provided above, and\n",
    "2. Hit \"Kernel\"->\"Restart & Run All\"."
   ]
  },
  {
   "cell_type": "code",
   "execution_count": 1,
   "metadata": {
    "tags": []
   },
   "outputs": [],
   "source": [
    "%matplotlib inline\n",
    "\n",
    "import matplotlib.pyplot as plt\n",
    "import networkx as nx\n",
    "from copy import deepcopy"
   ]
  },
  {
   "cell_type": "markdown",
   "metadata": {},
   "source": [
    "You might need to do a install to work with networkx\n",
    "\n",
    "```\n",
    "pip install networkx\n",
    "```"
   ]
  },
  {
   "cell_type": "markdown",
   "metadata": {},
   "source": [
    "## Map Coloring\n",
    "\n",
    "It turns out that any division of a plane into contiguous regions can be colored such that no two adjacent regions are the same color by using only four colors (see [Four Color Theorem](http://en.wikipedia.org/wiki/Four_color_theorem), for more details) This **Constraint Satisfaction Problem** can be viewed as a constraint graph, where variables are nodes and no adjacent nodes can be of the same color.\n",
    "\n",
    "\n",
    "Our first constraint graph is the dictionary `connecticut_graph` with three keys: 1) \"nodes,\" which is a ordered list of strings that represent the nodes; 2) \"edges,\" which indicates with tuples which nodes are adjacent; and 3) the \"coordinates\" key helps NetworkX make cartoons."
   ]
  },
  {
   "cell_type": "code",
   "execution_count": 2,
   "metadata": {
    "tags": []
   },
   "outputs": [
    {
     "name": "stdout",
     "output_type": "stream",
     "text": [
      "{'nodes': ['Fairfield', 'Litchfield', 'New Haven', 'Hartford', 'Middlesex', 'Tolland', 'New London', 'Windham'], 'edges': [(0, 1), (0, 2), (1, 2), (1, 3), (2, 3), (2, 4), (3, 4), (3, 5), (3, 6), (4, 6), (5, 6), (5, 7), (6, 7)], 'coordinates': [(46, 52), (65, 142), (104, 77), (123, 142), (147, 85), (162, 140), (197, 94), (217, 146)]}\n"
     ]
    }
   ],
   "source": [
    "connecticut_graph = { \"nodes\": [\"Fairfield\", \"Litchfield\", \"New Haven\", \"Hartford\", \"Middlesex\", \"Tolland\", \"New London\", \"Windham\"],\n",
    "                \"edges\": [(0,1), (0,2), (1,2), (1,3), (2,3), (2,4), (3,4), (3,5), (3,6), (4,6), (5,6), (5,7), (6,7)],\n",
    "                \"coordinates\": [( 46, 52), ( 65,142), (104, 77), (123,142), (147, 85), (162,140), (197, 94), (217,146)]}\n",
    "print(connecticut_graph)"
   ]
  },
  {
   "cell_type": "markdown",
   "metadata": {},
   "source": [
    "<a id=\"create_adjlist\"></a>\n",
    "### create_adjlist\n",
    "\n",
    "This function creates an adjacency list from a constraint graph, which is a representation of neighbor relationships between nodes.\n",
    "\n",
    "* **constraint_graph** Dict: the dictionary with keys: nodes, edges, and coordinates.\n",
    "\n",
    "**returns** \n",
    "\n",
    "\n",
    "* **adjacency_list** Dict: Each key corresponds to a node, and the value is a list of nodes that are its neighbors."
   ]
  },
  {
   "cell_type": "code",
   "execution_count": 3,
   "metadata": {},
   "outputs": [],
   "source": [
    "def create_adjlist(constraint_graph):\n",
    "    adjacency_list = {}\n",
    "    for node in constraint_graph[\"nodes\"]:\n",
    "        adjacency_list[node] = []\n",
    "    for edge in constraint_graph[\"edges\"]:\n",
    "        node0 = constraint_graph[\"nodes\"][edge[0]]\n",
    "        node1 = constraint_graph[\"nodes\"][edge[1]]\n",
    "        adjacency_list[node0].append(node1)\n",
    "        adjacency_list[node1].append(node0)\n",
    "    return adjacency_list"
   ]
  },
  {
   "cell_type": "code",
   "execution_count": 4,
   "metadata": {
    "tags": []
   },
   "outputs": [],
   "source": [
    "# Test 1: Simple triangle graph\n",
    "graph1 = {\n",
    "    \"nodes\": [\"A\", \"B\", \"C\"],\n",
    "    \"edges\": [(0, 1), (1, 2), (2, 0)]\n",
    "}\n",
    "expected_adjlist1 = {\n",
    "    \"A\": [\"B\", \"C\"],\n",
    "    \"B\": [\"A\", \"C\"],\n",
    "    \"C\": [\"A\", \"B\"]\n",
    "}\n",
    "result_adjlist1 = create_adjlist(graph1)\n",
    "assert all(set(result_adjlist1[node]) == set(expected_adjlist1[node]) for node in result_adjlist1), \"Test 1 failed: Triangle graph adjacency list incorrect.\"\n",
    "\n",
    "# Test 2: Line graph\n",
    "graph2 = {\n",
    "    \"nodes\": [\"A\", \"B\", \"C\"],\n",
    "    \"edges\": [(0, 1), (1, 2)]\n",
    "}\n",
    "expected_adjlist2 = {\n",
    "    \"A\": [\"B\"],\n",
    "    \"B\": [\"A\", \"C\"],\n",
    "    \"C\": [\"B\"]\n",
    "}\n",
    "result_adjlist2 = create_adjlist(graph2)\n",
    "assert all(set(result_adjlist2[node]) == set(expected_adjlist2[node]) for node in result_adjlist2), \"Test 2 failed: Line graph adjacency list incorrect.\"\n",
    "\n",
    "# Test 3: Single node with no edges\n",
    "graph3 = {\n",
    "    \"nodes\": [\"A\"],\n",
    "    \"edges\": []\n",
    "}\n",
    "expected_adjlist3 = {\n",
    "    \"A\": []\n",
    "}\n",
    "result_adjlist3 = create_adjlist(graph3)\n",
    "assert all(set(result_adjlist3[node]) == set(expected_adjlist3[node]) for node in result_adjlist3), \"Test 3 failed: Single node graph adjacency list incorrect.\""
   ]
  },
  {
   "cell_type": "markdown",
   "metadata": {},
   "source": [
    "<a id=\"is_consistent\"></a>\n",
    "### is_consistent\n",
    "\n",
    "This function determines if assigning a given value (color) to a variable (node) is consistent with the current assignment, following the constraint that no two adjacent nodes can share the same value.\n",
    "\n",
    "* **constraint_graph** Dict: the dictionary with keys: nodes, edges, and coordinates.\n",
    "* **adjlist** Dict: the adjacency list representing the graph, where each key is a node and the value is a list of neighboring nodes.\n",
    "* **assigned** Dict: A dictionary where each key is a node and the value is the color assigned to that node.\n",
    "* **var** str: The node for which the consistency of the assignment is being checked.\n",
    "* **value** str: The color value being considered for assignment to the node var.\n",
    "\n",
    "**returns** \n",
    "\n",
    "\n",
    "* **True** or **False** Bool: Returns True if assigning the value to var is consistent with the current assignments, ensuring that no two adjacent nodes have the same value. Returns False otherwise."
   ]
  },
  {
   "cell_type": "code",
   "execution_count": 5,
   "metadata": {},
   "outputs": [],
   "source": [
    "def is_consistent(constraint_graph, adjlist, assigned, var, value):\n",
    "    if var in adjlist:\n",
    "        neighbors = adjlist[var]\n",
    "    else:\n",
    "        neighbors = []\n",
    "    for neighbor in neighbors:\n",
    "        if neighbor in assigned and assigned[neighbor] == value:\n",
    "            return False\n",
    "    return True"
   ]
  },
  {
   "cell_type": "code",
   "execution_count": 6,
   "metadata": {
    "tags": []
   },
   "outputs": [],
   "source": [
    "# Test 1: Checking consistency in an empty assignment scenario\n",
    "adjlist1 = {'A': ['B', 'C'], 'B': ['A', 'C'], 'C': ['A', 'B']}\n",
    "assigned1 = {}\n",
    "assert is_consistent({}, adjlist1, assigned1, 'A', 'Red'), \"Test 1 failed: 'A' should be consistent as there are no assignments.\"\n",
    "\n",
    "# Test 2: Checking consistency with one neighbor assigned the same value\n",
    "adjlist2 = {'A': ['B'], 'B': ['A']}\n",
    "assigned2 = {'B': 'Red'}\n",
    "assert not is_consistent({}, adjlist2, assigned2, 'A', 'Red'), \"Test 2 failed: 'A' should be inconsistent as 'B' is assigned the same value.\"\n",
    "\n",
    "# Test 3: Checking consistency with neighbors having different values\n",
    "adjlist3 = {'A': ['B', 'C'], 'B': ['A'], 'C': ['A']}\n",
    "assigned3 = {'B': 'Red', 'C': 'Blue'}\n",
    "assert is_consistent({}, adjlist3, assigned3, 'A', 'Green'), \"Test 3 failed: 'A' should be consistent as no neighbor has 'Green'.\""
   ]
  },
  {
   "cell_type": "markdown",
   "metadata": {},
   "source": [
    "<a id=\"degree_heuristic\"></a>\n",
    "### degree_heuristic\n",
    "\n",
    "This function selects the next variable to be assigned a value based on the degree heuristic, i.e. nodes with largest degree, i.e. most neighbors.\n",
    "\n",
    "* **adjlist** Dict: the adjacency list representing the graph, where each key is a node and the value is a list of neighboring nodes.\n",
    "* **assigned** Dict: A dictionary where each key is a node and the value is the color assigned to that node.\n",
    "\n",
    "**returns** \n",
    "\n",
    "\n",
    "* **selected_var** str or None: The variable with the highest degree among unassigned variables. Returns None if all variables are assigned."
   ]
  },
  {
   "cell_type": "code",
   "execution_count": 7,
   "metadata": {},
   "outputs": [],
   "source": [
    "def degree_heuristic(adjlist, assigned):\n",
    "    # create an unassigned list \n",
    "    unassigned = []\n",
    "    for var in adjlist:\n",
    "        if var not in assigned:\n",
    "            unassigned.append(var)\n",
    "    max_length = -1\n",
    "    selected_var = None\n",
    "    for var in unassigned:\n",
    "        if len(adjlist[var]) > max_length:\n",
    "            max_length = len(adjlist[var])\n",
    "            selected_var = var\n",
    "    return selected_var"
   ]
  },
  {
   "cell_type": "code",
   "execution_count": 8,
   "metadata": {
    "tags": []
   },
   "outputs": [],
   "source": [
    "# Test 1: Simple case with three nodes\n",
    "adjlist1 = {'A': ['B', 'C'], 'B': ['A', 'C'], 'C': ['A', 'B']}\n",
    "assigned1 = {'A': 'Red'}\n",
    "assert degree_heuristic(adjlist1, assigned1) in ['B', 'C'], \"Test 1 failed: The variable with the highest degree should be either 'B' or 'C'.\"\n",
    "\n",
    "# Test 2: All nodes are assigned\n",
    "adjlist2 = {'A': ['B'], 'B': ['A']}\n",
    "assigned2 = {'A': 'Red', 'B': 'Blue'}\n",
    "assert degree_heuristic(adjlist2, assigned2) is None, \"Test 2 failed: No variable should be selected since all are assigned.\"\n",
    "\n",
    "# Test 3: Selecting among multiple unassigned variables\n",
    "adjlist3 = {'A': ['B', 'C', 'D'], 'B': ['A', 'D'], 'C': ['A'], 'D': ['A', 'B']}\n",
    "assigned3 = {'C': 'Green'}\n",
    "assert degree_heuristic(adjlist3, assigned3) == 'A', \"Test 3 failed: 'A' should be selected as it has the highest degree among unassigned variables.\""
   ]
  },
  {
   "cell_type": "markdown",
   "metadata": {},
   "source": [
    "<a id=\"lcv\"></a>\n",
    "### lcv\n",
    "\n",
    "This function implements the Least Constrained Values (LCV) heuristic. It sorts the possible values for a variable based on the number of choices remaining for adjacent unassigned variables into a list.\n",
    "\n",
    "* **adjlist** Dict: the adjacency list representing the graph, where each key is a node and the value is a list of neighboring nodes.\n",
    "* **assigned** Dict: A dictionary where each key is a node and the value is the color assigned to that node.\n",
    "* **var** str: The variable for which the LCV heuristic is applied to sort its possible values.\n",
    "* **domains** Dict: A dictionary where each key is a variable, and the value is a set of possible values (colors) that the variable can take.\n",
    "\n",
    "\n",
    "**returns** \n",
    "\n",
    "\n",
    "* **values_sorted** List: A list of values (colors) sorted according to the LCV heuristic, where the first element is the least constraining value for adjacent unassigned variables."
   ]
  },
  {
   "cell_type": "code",
   "execution_count": 9,
   "metadata": {},
   "outputs": [],
   "source": [
    "def lcv(adjlist, assigned, var, domains):\n",
    "    unassigned_neighbors = []\n",
    "    for neighbor in adjlist[var]:\n",
    "        if neighbor not in assigned:\n",
    "            unassigned_neighbors.append(neighbor)\n",
    "    shared_list = []\n",
    "    for value in domains[var]:\n",
    "        shared = 0\n",
    "        for neighbor in unassigned_neighbors:\n",
    "            if value in domains[neighbor]:\n",
    "                shared += 1\n",
    "        shared_list.append((value, shared))\n",
    "    shared_list_sorted = sorted(shared_list, key=lambda item: item[1])\n",
    "    values_sorted = []\n",
    "    for tup in shared_list_sorted:\n",
    "        value = tup[0]\n",
    "        values_sorted.append(value)\n",
    "    return values_sorted"
   ]
  },
  {
   "cell_type": "code",
   "execution_count": 10,
   "metadata": {
    "tags": []
   },
   "outputs": [],
   "source": [
    "# Test 1: Simple case with clear LCV\n",
    "adjlist1 = {'A': ['B', 'C'], 'B': ['A'], 'C': ['A']}\n",
    "assigned1 = {}\n",
    "domains1 = {'A': {'Red', 'Blue'}, 'B': {'Blue'}, 'C': {'Red', 'Blue'}}\n",
    "assert lcv(adjlist1, assigned1, 'A', domains1) == ['Red', 'Blue'], \"Test 1 failed: 'Red' should be less constraining than 'Blue' for 'A'.\"\n",
    "\n",
    "# Test 2: All neighbors are assigned\n",
    "adjlist2 = {'A': ['B'], 'B': ['A']}\n",
    "assigned2 = {'B': 'Red'}\n",
    "domains2 = {'A': {'Red', 'Blue'}, 'B': {'Red'}}\n",
    "assert lcv(adjlist2, assigned2, 'A', domains2) == ['Red', 'Blue'] or lcv(adjlist2, assigned2, 'A', domains2) == ['Blue', 'Red'], \"Test 2 failed: Value order should not matter when all neighbors are assigned.\"\n",
    "\n",
    "# Test 3: Determining LCV for \"Hartford\" in the Connecticut graph\n",
    "adjlist3 = create_adjlist(connecticut_graph)\n",
    "assigned3 = {}\n",
    "domains3 = {\n",
    "    \"Fairfield\": {'Red', 'Green', 'Blue'},\n",
    "    \"Litchfield\": {'Red', 'Green'},\n",
    "    \"New Haven\": {'Red', 'Blue'},\n",
    "    \"Hartford\": {'Red', 'Green', 'Blue'},\n",
    "    \"Middlesex\": {'Green', 'Blue'},\n",
    "    \"Tolland\": {'Red', 'Blue'},\n",
    "    \"New London\": {'Red', 'Green', 'Blue'},\n",
    "    \"Windham\": {'Red', 'Blue'}\n",
    "}\n",
    "lcv_result = lcv(adjlist3, assigned3, \"Hartford\", domains3)\n",
    "assert lcv_result[0] == 'Green', \"Test 3 failed: 'Green' should be the least constraining for 'Hartford'.\"\n",
    "assert set(lcv_result[1:]) == {'Red', 'Blue'}, \"Test 3 failed: The order of 'Red' and 'Blue' does not matter.\""
   ]
  },
  {
   "cell_type": "markdown",
   "metadata": {},
   "source": [
    "<a id=\"forward_check\"></a>\n",
    "### forward_check\n",
    "\n",
    "This function implements forward checking by updating the domains of unassigned neighboring variables of a newly assigned variable. If assigning a value to a variable, it removes that value from the domains of its unassigned neighbors to maintain consistency.\n",
    "\n",
    "* **adjlist** Dict: the adjacency list representing the graph, where each key is a node and the value is a list of neighboring nodes.\n",
    "* **assigned** Dict: A dictionary where each key is a node and the value is the color assigned to that node.\n",
    "* **var** str: The variable to which a value has been assigned.\n",
    "* **domains** Dict: A dictionary where each key is a variable, and the value is a set of possible values (colors) that the variable can take.\n",
    "* **value** str: The value assigned to the variable var.\n",
    "\n",
    "\n",
    "\n",
    "**returns** \n",
    "\n",
    "\n",
    "* **new_domains** Dict or None: An updated dictionary of domains after applying forward checking. If the domain of any neighbor becomes empty, it returns None to indicate a failure."
   ]
  },
  {
   "cell_type": "code",
   "execution_count": 11,
   "metadata": {},
   "outputs": [],
   "source": [
    "def forward_check(adjlist, assigned, var, domains, value):\n",
    "    new_domains = deepcopy(domains)\n",
    "    for neighbor in adjlist[var]:\n",
    "        if neighbor not in assigned and value in new_domains[neighbor]:\n",
    "            new_domains[neighbor].discard(value)\n",
    "            if not new_domains[neighbor]:\n",
    "                return None\n",
    "    return new_domains"
   ]
  },
  {
   "cell_type": "code",
   "execution_count": 12,
   "metadata": {
    "tags": []
   },
   "outputs": [],
   "source": [
    "# Setup common graph and initial domains\n",
    "adjlist = create_adjlist(connecticut_graph)\n",
    "initial_domains = {\n",
    "    \"Fairfield\": {'Red', 'Green', 'Blue'},\n",
    "    \"Litchfield\": {'Red', 'Green', 'Blue'},\n",
    "    \"New Haven\": {'Red', 'Green', 'Blue'},\n",
    "    \"Hartford\": {'Red', 'Green', 'Blue'},\n",
    "    \"Middlesex\": {'Red', 'Green', 'Blue'},\n",
    "    \"Tolland\": {'Red', 'Green', 'Blue'},\n",
    "    \"New London\": {'Red', 'Green', 'Blue'},\n",
    "    \"Windham\": {'Red', 'Green', 'Blue'},\n",
    "}\n",
    "\n",
    "# Test 1: Assign 'Red' to \"Hartford\" and check domain updates\n",
    "assigned = {\"Hartford\": 'Red'}\n",
    "new_domains = forward_check(adjlist, assigned, \"Hartford\", initial_domains, 'Red')\n",
    "assert all('Red' not in new_domains[neighbor] for neighbor in adjlist[\"Hartford\"]), \"Test 1 failed: Neighbors' domains not updated correctly.\"\n",
    "\n",
    "# Test 2: Assign 'Green' to \"Hartford\", leading to an empty domain for a neighbor\n",
    "assigned = {\"Hartford\": 'Green'}\n",
    "restrictive_domains = deepcopy(initial_domains)\n",
    "restrictive_domains[\"Litchfield\"] = {'Green'}\n",
    "assert forward_check(adjlist, assigned, \"Hartford\", restrictive_domains, 'Green') is None, \"Test 2 failed: Should return None due to empty domain.\"\n",
    "\n",
    "# Test 3: Assign 'Green' to \"Hartford\" causing an empty domain for \"Tolland\"\n",
    "assigned3 = {\"Hartford\": 'Green'}\n",
    "# Setting up domains so that \"Tolland\" only has 'Green', which will be removed due to Hartford's assignment\n",
    "constrained_domains3 = deepcopy(initial_domains)\n",
    "constrained_domains3[\"Tolland\"] = {'Green'}\n",
    "# Expecting None since \"Tolland\" will have an empty domain after forward checking\n",
    "result_domains3 = forward_check(adjlist, assigned3, \"Hartford\", constrained_domains3, 'Green')\n",
    "assert result_domains3 is None, \"Test 3 failed: Should return None due to empty domain for 'Tolland'.\""
   ]
  },
  {
   "cell_type": "markdown",
   "metadata": {
    "tags": []
   },
   "source": [
    "<a id=\"trace_print\"></a>\n",
    "### trace_print\n",
    "\n",
    "This function outputs a message to the console only if tracing is enabled. \n",
    "\n",
    "* **message** str: The message to be printed to the console.\n",
    "* **trace** str: A boolean flag that determines whether the message should be printed. If True, the message is printed; if False, nothing is printed.\n",
    "\n",
    "\n",
    "**returns** \n",
    "\n",
    "\n",
    "* **None**"
   ]
  },
  {
   "cell_type": "code",
   "execution_count": 13,
   "metadata": {},
   "outputs": [],
   "source": [
    "def trace_print(message, trace):\n",
    "    if trace:\n",
    "        print(message)"
   ]
  },
  {
   "cell_type": "code",
   "execution_count": 14,
   "metadata": {
    "tags": []
   },
   "outputs": [],
   "source": [
    "# NOTE: THIS IS COMMENTED OUT TO NOT AFFECT THE OUTPUT OF PROBLEM1-4\n",
    "# please uncomment the following yourself to assert-test the above unit function (if you bother haha)\n",
    "\n",
    "# from io import StringIO\n",
    "# import sys\n",
    "\n",
    "# captured_output = StringIO()          \n",
    "# sys.stdout = captured_output          \n",
    "# trace_print(\"Test message\", True)     \n",
    "# assert \"Test message\" in captured_output.getvalue()\n",
    "# sys.stdout = sys.__stdout__           \n",
    "\n",
    "# captured_output = StringIO()          \n",
    "# sys.stdout = captured_output          \n",
    "# trace_print(\"Test message\", False)    \n",
    "# assert captured_output.getvalue().strip() == \"\"\n",
    "# sys.stdout = sys.__stdout__           \n",
    "\n",
    "# captured_output = StringIO()          \n",
    "# sys.stdout = captured_output          \n",
    "# trace_print(\"Different test message\", False)  \n",
    "# assert captured_output.getvalue().strip() == \"\"\n",
    "# sys.stdout = sys.__stdout__"
   ]
  },
  {
   "cell_type": "markdown",
   "metadata": {},
   "source": [
    "<a id=\"backtrack\"></a>\n",
    "### backtrack\n",
    "\n",
    "This function implements the backtracking. It recursively selects a variable using the degree heuristic and iterates over its domain sorted by the LCV heuristic. It checks for consistency and applies forward checking at each step. If a variable assignment leads to a dead-end, it backtracks by undoing the assignment and trying alternative values. \n",
    "\n",
    "* **constraint_graph** Dict: The graph representing the map, detailing nodes and edges.\n",
    "* **color_list** List: The list of colors available for coloring.\n",
    "* **trace** Dict: If set to True, enables logging of the decision-making process.\n",
    "* **adjlist** Dict: The adjacency list representing the graph structure.\n",
    "* **assigned** Dict: A dictionary where each key is a node and the value is the color assigned to that node.\n",
    "* **domains** Dict: A dictionary where each key is a variable, and the value is a set of possible values (colors) that the variable can take.\n",
    "\n",
    "\n",
    "**returns** \n",
    "\n",
    "\n",
    "* **result** List[Tuple[Str, Str]] or None: A list of tuples, each containing a node and its assigned color, if a valid coloring exists. Returns None if no valid coloring is found."
   ]
  },
  {
   "cell_type": "code",
   "execution_count": 15,
   "metadata": {},
   "outputs": [],
   "source": [
    "def backtrack(constraint_graph, color_list, trace, adjlist, assigned, domains):\n",
    "    if len(assigned) == len(constraint_graph[\"nodes\"]):\n",
    "        return [(node, assigned[node]) for node in constraint_graph[\"nodes\"]]\n",
    "    var = degree_heuristic(adjlist, assigned)\n",
    "    trace_print(f\"⭕️Degree Heuristic selected node: {var}\", trace)\n",
    "    lcv_sort_values = lcv(adjlist, assigned, var, domains)\n",
    "    for value in lcv_sort_values:\n",
    "        if not is_consistent(constraint_graph, adjlist, assigned, var, value):\n",
    "            continue\n",
    "        assigned[var] = value\n",
    "        trace_print(f\"👀Assigned color {value} to node {var}, applying forward checking...\", trace)\n",
    "        domains_new = forward_check(adjlist, assigned, var, domains, value)\n",
    "        if domains_new is None:\n",
    "            assigned.pop(var)\n",
    "            continue\n",
    "        trace_print(f\"✅Forward checking passed for {var} = {value}\", trace)\n",
    "        result = backtrack(constraint_graph, color_list, trace, adjlist, assigned, domains_new)\n",
    "        if result is not None:\n",
    "            return result\n",
    "        trace_print(f\"🔙Backtracking: removing color {value} from node {var}\", trace)\n",
    "        assigned.pop(var)\n",
    "    trace_print(f\"😅 None is returned for variable '{var}', no valid value found.\", trace)\n",
    "    return None"
   ]
  },
  {
   "cell_type": "code",
   "execution_count": 16,
   "metadata": {
    "tags": []
   },
   "outputs": [],
   "source": [
    "# Test1\n",
    "constraint_graph = {\n",
    "    \"nodes\": [\"A\", \"B\"],\n",
    "    \"edges\": [(0, 1)]\n",
    "}\n",
    "color_list = [\"Red\", \"Blue\"]\n",
    "adjlist = create_adjlist(constraint_graph)\n",
    "assigned = {}\n",
    "domains = {node: set(color_list) for node in constraint_graph[\"nodes\"]}\n",
    "result = backtrack(constraint_graph, color_list, False, adjlist, assigned, domains)\n",
    "assert result == [('A', 'Red'), ('B', 'Blue')] or result == [('A', 'Blue'), ('B', 'Red')]\n",
    "# Test2\n",
    "constraint_graph = {\n",
    "    \"nodes\": [\"A\", \"B\", \"C\"],\n",
    "    \"edges\": [(0, 1), (1, 2), (0, 2)]\n",
    "}\n",
    "color_list = [\"Red\", \"Blue\"]\n",
    "adjlist = create_adjlist(constraint_graph)\n",
    "assigned = {}\n",
    "domains = {node: set(color_list) for node in constraint_graph[\"nodes\"]}\n",
    "result = backtrack(constraint_graph, color_list, False, adjlist, assigned, domains)\n",
    "assert result is None\n",
    "# Test3 \n",
    "constraint_graph = {\n",
    "    \"nodes\": [\"A\", \"B\", \"C\", \"D\"],\n",
    "    \"edges\": [(0, 1), (1, 2), (2, 3), (3, 0), (0, 2)]\n",
    "}\n",
    "color_list = [\"Red\", \"Blue\", \"Green\"]\n",
    "adjlist = create_adjlist(constraint_graph)\n",
    "assigned = {}\n",
    "domains = {node: set(color_list) for node in constraint_graph[\"nodes\"]}\n",
    "result = backtrack(constraint_graph, color_list, False, adjlist, assigned, domains)\n",
    "assert isinstance(result, list) and len(result) == 4"
   ]
  },
  {
   "cell_type": "markdown",
   "metadata": {},
   "source": [
    "<a id=\"color_map\"></a>\n",
    "## color_map\n",
    "\n",
    "This function colors a map provided as a constraint graph. The inputs are the constraint graph and a list of colors. Implementation should feature: 1) Backtracking, 2) Forward Checking, 3) variables picked using the Degreee Heuristic, and 4) Values picked using the Least Constrained Values heuristic. Each feature should be its own helper function, documented and tested.  \n",
    "\n",
    "* **constraint_graph** Dict: the dictionary with keys: nodes, edges, and coordinates.\n",
    "* **color_list** List: the domain available to variables at the start of the CSP.\n",
    "* **trace** Bool: a flag that when set to True, prints out statements that show what it is currently doing (in terms of the four features)\n",
    "\n",
    "\n",
    "**returns** \n",
    "\n",
    "\n",
    "* **solution** List[Tuple[Str][Str]]: a list of (node name, assigned color) tuples, where the ordering matches the original ordering of nodes in the constraint_graph. For example, if we had `[\"A\", \"B\"]` as nodes and `[\"Yellow\", \"Green\"]` as colors, your function might return `[(\"A\", \"Yellow\"), (\"B\", \"Green\")]`If the CSP cannot find a solution, `None` is returned."
   ]
  },
  {
   "cell_type": "code",
   "execution_count": 17,
   "metadata": {
    "tags": []
   },
   "outputs": [],
   "source": [
    "def color_map(constraint_graph, color_list, trace=False):\n",
    "    # Fix. Everything is colored red right now. \n",
    "    # With your implementation, if a solution can't be found, it should return `None`.\n",
    "    # Add features: \n",
    "    # 1) Backtracking, \n",
    "    # 2) Forward Checking, \n",
    "    # 3) Variables picked using the Degreee Heuristic, and \n",
    "    # 4) Values picked using the Least Constrained Values heuristic. \n",
    "    # Features should be helper functions, documented and tested.\n",
    "    adjacency_list = create_adjlist(constraint_graph)\n",
    "    assigned = {}\n",
    "    domains = {}\n",
    "    for node in constraint_graph[\"nodes\"]:\n",
    "        domains[node] = set(color_list)\n",
    "    return backtrack(constraint_graph, color_list, trace, adjacency_list, assigned, domains)"
   ]
  },
  {
   "cell_type": "markdown",
   "metadata": {},
   "source": [
    "<a id=\"color_map\"></a>\n",
    "## test_coloring\n",
    "\n",
    "This function tests the solution resulting from `color_map`. Adjacent nodes in the solution cannot be of the same color.\n",
    "\n",
    "* **constraint_graph** Dict: the dictionary with keys: nodes, edges, and coordinates.\n",
    "* **solution** List[Tuple[Str][Str]]: a list of (node name, assigned color) tuples\n",
    "\n",
    "\n",
    "**returns** \n",
    "\n",
    "\n",
    "Warning statement if there's a violation."
   ]
  },
  {
   "cell_type": "code",
   "execution_count": 18,
   "metadata": {},
   "outputs": [],
   "source": [
    "def test_coloring(constraint_graph, solution):\n",
    "    nodes = constraint_graph[ \"nodes\"]\n",
    "    edges = constraint_graph[\"edges\"]\n",
    "    for start, end in edges:\n",
    "        try:\n",
    "            assert solution[start][1] != solution[end][1]\n",
    "        except AssertionError:\n",
    "            print(f\"{nodes[start]} and {nodes[end]} are adjacent but have the same color.\")"
   ]
  },
  {
   "cell_type": "markdown",
   "metadata": {},
   "source": [
    "<a id=\"draw_map\"></a>\n",
    "## draw_map\n",
    "\n",
    "This function uses Networkx to draw the `constraint_graph`. Nodes are colored using `solution`. \n",
    "\n",
    "* **title** Str: Title for the cartoon\n",
    "* **constraint_graph** Dict with three keys: 1) \"nodes,\" which is a ordered list of strings that represent the nodes; 2) \"edges,\" which indicates with tuples which nodes are adjacent; and 3) the \"coordinates\" key helps NetworkX make cartoons.\n",
    "* **size** Tuple[Int, Int]: inches wide x inches tall, so (8,10) results in 8\"x10\" rendering (depends on monitor)\n",
    "* **solution** List[Tuple[Str][Str]]]: list of color assignments. Each item in the list is a (node name, assigned color) tuple. If set to None, all nodes are colored red. \n",
    "\n",
    "\n",
    "**returns** \n",
    "\n",
    "None. Draws constraint graph with specified color assignments for nodes. "
   ]
  },
  {
   "cell_type": "code",
   "execution_count": 19,
   "metadata": {},
   "outputs": [],
   "source": [
    "def draw_map(title, constraint_graph, size, solution=None):\n",
    "    def as_dictionary(a_list):\n",
    "        dct = {}\n",
    "        for i, e in enumerate(a_list):\n",
    "            dct[i] = e\n",
    "        return dct\n",
    "    \n",
    "    G = nx.Graph()\n",
    "    \n",
    "    labels = as_dictionary(constraint_graph[\"nodes\"])\n",
    "    pos = as_dictionary(constraint_graph[\"coordinates\"])\n",
    "    \n",
    "    # create a List of Nodes as indices to match the \"edges\" entry.\n",
    "    nodes = [n for n in range(0, len(constraint_graph[\"nodes\"]))]\n",
    "\n",
    "    if solution:\n",
    "        colors = [c for n, c in solution]\n",
    "    else:\n",
    "        colors = ['red' for c in range(0,len(constraint_graph[\"nodes\"]))]\n",
    "\n",
    "    G.add_nodes_from(nodes)\n",
    "    G.add_edges_from(constraint_graph[\"edges\"])\n",
    "\n",
    "    plt.figure(figsize=size, dpi=100)\n",
    "    plt.title(title)\n",
    "    nx.draw(G, node_color = colors, with_labels = True, labels = labels, pos = pos)\n",
    "    \n",
    "#    plt.savefig(name + \".png\")"
   ]
  },
  {
   "cell_type": "markdown",
   "metadata": {},
   "source": [
    "## Problem 1. Color Connecticut with Four Colors"
   ]
  },
  {
   "cell_type": "code",
   "execution_count": 20,
   "metadata": {},
   "outputs": [
    {
     "name": "stdout",
     "output_type": "stream",
     "text": [
      "⭕️Degree Heuristic selected node: Hartford\n",
      "👀Assigned color green to node Hartford, applying forward checking...\n",
      "✅Forward checking passed for Hartford = green\n",
      "⭕️Degree Heuristic selected node: New Haven\n",
      "👀Assigned color red to node New Haven, applying forward checking...\n",
      "✅Forward checking passed for New Haven = red\n",
      "⭕️Degree Heuristic selected node: New London\n",
      "👀Assigned color red to node New London, applying forward checking...\n",
      "✅Forward checking passed for New London = red\n",
      "⭕️Degree Heuristic selected node: Litchfield\n",
      "👀Assigned color yellow to node Litchfield, applying forward checking...\n",
      "✅Forward checking passed for Litchfield = yellow\n",
      "⭕️Degree Heuristic selected node: Middlesex\n",
      "👀Assigned color yellow to node Middlesex, applying forward checking...\n",
      "✅Forward checking passed for Middlesex = yellow\n",
      "⭕️Degree Heuristic selected node: Tolland\n",
      "👀Assigned color yellow to node Tolland, applying forward checking...\n",
      "✅Forward checking passed for Tolland = yellow\n",
      "⭕️Degree Heuristic selected node: Fairfield\n",
      "👀Assigned color green to node Fairfield, applying forward checking...\n",
      "✅Forward checking passed for Fairfield = green\n",
      "⭕️Degree Heuristic selected node: Windham\n",
      "👀Assigned color green to node Windham, applying forward checking...\n",
      "✅Forward checking passed for Windham = green\n"
     ]
    }
   ],
   "source": [
    "connecticut_solution = color_map(connecticut_graph, [\"red\", \"blue\", \"green\", \"yellow\"], trace=True)"
   ]
  },
  {
   "cell_type": "markdown",
   "metadata": {},
   "source": [
    "## Test Connecticut Solution"
   ]
  },
  {
   "cell_type": "code",
   "execution_count": 21,
   "metadata": {},
   "outputs": [],
   "source": [
    "if connecticut_solution:\n",
    "    test_coloring(connecticut_graph, connecticut_solution)"
   ]
  },
  {
   "cell_type": "markdown",
   "metadata": {},
   "source": [
    "## Draw Connecticut Cartoon"
   ]
  },
  {
   "cell_type": "code",
   "execution_count": 22,
   "metadata": {},
   "outputs": [
    {
     "data": {
      "image/png": "[encoded data removed]",
      "text/plain": [
       "<Figure size 500x400 with 1 Axes>"
      ]
     },
     "metadata": {},
     "output_type": "display_data"
    }
   ],
   "source": [
    "if connecticut_solution:\n",
    "    draw_map(\"Connecticut\", connecticut_graph, (5,4), connecticut_solution)"
   ]
  },
  {
   "cell_type": "markdown",
   "metadata": {},
   "source": [
    "## Problem 2. Color Connecticut with Three Colors"
   ]
  },
  {
   "cell_type": "code",
   "execution_count": 23,
   "metadata": {},
   "outputs": [],
   "source": [
    "connecticut_solution = color_map(connecticut_graph, [\"red\", \"blue\", \"green\"], trace=False)"
   ]
  },
  {
   "cell_type": "markdown",
   "metadata": {},
   "source": [
    "## Test Connecticut Solution"
   ]
  },
  {
   "cell_type": "code",
   "execution_count": 24,
   "metadata": {},
   "outputs": [],
   "source": [
    "if connecticut_solution:\n",
    "    test_coloring(connecticut_graph, connecticut_solution)"
   ]
  },
  {
   "cell_type": "markdown",
   "metadata": {},
   "source": [
    "## Draw Connecticut Cartoon"
   ]
  },
  {
   "cell_type": "code",
   "execution_count": 25,
   "metadata": {},
   "outputs": [
    {
     "data": {
      "image/png": "[encoded data removed]",
      "text/plain": [
       "<Figure size 500x400 with 1 Axes>"
      ]
     },
     "metadata": {},
     "output_type": "display_data"
    }
   ],
   "source": [
    "if connecticut_solution:\n",
    "    draw_map(\"connecticut\", connecticut_graph, (5,4), connecticut_solution)"
   ]
  },
  {
   "cell_type": "markdown",
   "metadata": {},
   "source": [
    "## Problem 3. Color Europe with Four Colors"
   ]
  },
  {
   "cell_type": "code",
   "execution_count": 26,
   "metadata": {
    "scrolled": true
   },
   "outputs": [
    {
     "name": "stdout",
     "output_type": "stream",
     "text": [
      "{'nodes': ['Iceland', 'Ireland', 'United Kingdom', 'Portugal', 'Spain', 'France', 'Belgium', 'Netherlands', 'Luxembourg', 'Germany', 'Denmark', 'Norway', 'Sweden', 'Finland', 'Estonia', 'Latvia', 'Lithuania', 'Poland', 'Czech Republic', 'Austria', 'Liechtenstein', 'Switzerland', 'Italy', 'Malta', 'Greece', 'Albania', 'Macedonia', 'Kosovo', 'Montenegro', 'Bosnia Herzegovina', 'Serbia', 'Croatia', 'Slovenia', 'Hungary', 'Slovakia', 'Belarus', 'Ukraine', 'Moldova', 'Romania', 'Bulgaria', 'Cyprus', 'Turkey', 'Georgia', 'Armenia', 'Azerbaijan', 'Russia'], 'edges': [(0, 1), (0, 2), (1, 2), (2, 5), (2, 6), (2, 7), (2, 11), (3, 4), (4, 5), (4, 22), (5, 6), (5, 8), (5, 9), (5, 21), (5, 22), (6, 7), (6, 8), (6, 9), (7, 9), (8, 9), (9, 10), (9, 12), (9, 17), (9, 18), (9, 19), (9, 21), (10, 11), (10, 12), (10, 17), (11, 12), (11, 13), (11, 45), (12, 13), (12, 14), (12, 15), (12, 17), (13, 14), (13, 45), (14, 15), (14, 45), (15, 16), (15, 35), (15, 45), (16, 17), (16, 35), (17, 18), (17, 34), (17, 35), (17, 36), (18, 19), (18, 34), (19, 20), (19, 21), (19, 22), (19, 32), (19, 33), (19, 34), (20, 21), (21, 22), (22, 23), (22, 24), (22, 25), (22, 28), (22, 29), (22, 31), (22, 32), (24, 25), (24, 26), (24, 39), (24, 40), (24, 41), (25, 26), (25, 27), (25, 28), (26, 27), (26, 30), (26, 39), (27, 28), (27, 30), (28, 29), (28, 30), (29, 30), (29, 31), (30, 31), (30, 33), (30, 38), (30, 39), (31, 32), (31, 33), (32, 33), (33, 34), (33, 36), (33, 38), (34, 36), (35, 36), (35, 45), (36, 37), (36, 38), (36, 45), (37, 38), (38, 39), (39, 41), (40, 41), (41, 42), (41, 43), (41, 44), (42, 43), (42, 44), (42, 45), (43, 44), (44, 45)], 'coordinates': [(18, 147), (48, 83), (64, 90), (47, 28), (63, 34), (78, 55), (82, 74), (84, 80), (82, 69), (100, 78), (94, 97), (110, 162), (116, 144), (143, 149), (140, 111), (137, 102), (136, 95), (122, 78), (110, 67), (112, 60), (98, 59), (93, 55), (102, 35), (108, 14), (130, 22), (125, 32), (128, 37), (127, 40), (122, 42), (118, 47), (127, 48), (116, 53), (111, 54), (122, 57), (124, 65), (146, 87), (158, 65), (148, 57), (138, 54), (137, 41), (160, 13), (168, 29), (189, 39), (194, 32), (202, 33), (191, 118)]}\n"
     ]
    }
   ],
   "source": [
    "europe_graph = {\n",
    "    \"nodes\":  [\"Iceland\", \"Ireland\", \"United Kingdom\", \"Portugal\", \"Spain\",\n",
    "                 \"France\", \"Belgium\", \"Netherlands\", \"Luxembourg\", \"Germany\",\n",
    "                 \"Denmark\", \"Norway\", \"Sweden\", \"Finland\", \"Estonia\",\n",
    "                 \"Latvia\", \"Lithuania\", \"Poland\", \"Czech Republic\", \"Austria\",\n",
    "                 \"Liechtenstein\", \"Switzerland\", \"Italy\", \"Malta\", \"Greece\",\n",
    "                 \"Albania\", \"Macedonia\", \"Kosovo\", \"Montenegro\", \"Bosnia Herzegovina\",\n",
    "                 \"Serbia\", \"Croatia\", \"Slovenia\", \"Hungary\", \"Slovakia\",\n",
    "                 \"Belarus\", \"Ukraine\", \"Moldova\", \"Romania\", \"Bulgaria\",\n",
    "                 \"Cyprus\", \"Turkey\", \"Georgia\", \"Armenia\", \"Azerbaijan\",\n",
    "                 \"Russia\" ], \n",
    "    \"edges\": [(0,1), (0,2), (1,2), (2,5), (2,6), (2,7), (2,11), (3,4),\n",
    "                 (4,5), (4,22), (5,6), (5,8), (5,9), (5,21), (5,22),(6,7),\n",
    "                 (6,8), (6,9), (7,9), (8,9), (9,10), (9,12), (9,17), (9,18),\n",
    "                 (9,19), (9,21), (10,11), (10,12), (10,17), (11,12), (11,13), (11,45), \n",
    "                 (12,13), (12,14), (12,15), (12,17), (13,14), (13,45), (14,15),\n",
    "                 (14,45), (15,16), (15,35), (15,45), (16,17), (16,35), (17,18),\n",
    "                 (17,34), (17,35), (17,36), (18,19), (18,34), (19,20), (19,21), \n",
    "                 (19,22), (19,32), (19,33), (19,34), (20,21), (21,22), (22,23),\n",
    "                 (22,24), (22,25), (22,28), (22,29), (22,31), (22,32), (24,25),\n",
    "                 (24,26), (24,39), (24,40), (24,41), (25,26), (25,27), (25,28),\n",
    "                 (26,27), (26,30), (26,39), (27,28), (27,30), (28,29), (28,30),\n",
    "                 (29,30), (29,31), (30,31), (30,33), (30,38), (30,39), (31,32),\n",
    "                 (31,33), (32,33), (33,34), (33,36), (33,38), (34,36), (35,36),\n",
    "                 (35,45), (36,37), (36,38), (36,45), (37,38), (38,39), (39,41),\n",
    "                 (40,41), (41,42), (41,43), (41,44), (42,43), (42,44), (42,45),\n",
    "                 (43,44), (44,45)],\n",
    "    \"coordinates\": [( 18,147), ( 48, 83), ( 64, 90), ( 47, 28), ( 63, 34),\n",
    "                   ( 78, 55), ( 82, 74), ( 84, 80), ( 82, 69), (100, 78),\n",
    "                   ( 94, 97), (110,162), (116,144), (143,149), (140,111),\n",
    "                   (137,102), (136, 95), (122, 78), (110, 67), (112, 60),\n",
    "                   ( 98, 59), ( 93, 55), (102, 35), (108, 14), (130, 22),\n",
    "                   (125, 32), (128, 37), (127, 40), (122, 42), (118, 47),\n",
    "                   (127, 48), (116, 53), (111, 54), (122, 57), (124, 65),\n",
    "                   (146, 87), (158, 65), (148, 57), (138, 54), (137, 41),\n",
    "                   (160, 13), (168, 29), (189, 39), (194, 32), (202, 33),\n",
    "                   (191,118)]}\n",
    "print(europe_graph)"
   ]
  },
  {
   "cell_type": "code",
   "execution_count": 27,
   "metadata": {},
   "outputs": [],
   "source": [
    "europe_solution = color_map(europe_graph, [\"red\", \"blue\", \"green\", \"yellow\"], trace=False)"
   ]
  },
  {
   "cell_type": "markdown",
   "metadata": {},
   "source": [
    "## Test Europe Solution"
   ]
  },
  {
   "cell_type": "code",
   "execution_count": 28,
   "metadata": {},
   "outputs": [],
   "source": [
    "if europe_solution:\n",
    "    test_coloring(europe_graph, europe_solution)"
   ]
  },
  {
   "cell_type": "markdown",
   "metadata": {},
   "source": [
    "## Draw Europe Cartoon"
   ]
  },
  {
   "cell_type": "code",
   "execution_count": 29,
   "metadata": {
    "scrolled": true
   },
   "outputs": [
    {
     "data": {
      "image/png": "[encoded data removed]",
      "text/plain": [
       "<Figure size 500x400 with 1 Axes>"
      ]
     },
     "metadata": {},
     "output_type": "display_data"
    }
   ],
   "source": [
    "if europe_solution:\n",
    "    draw_map(\"Europe\", europe_graph, (5,4), europe_solution)"
   ]
  },
  {
   "cell_type": "markdown",
   "metadata": {},
   "source": [
    "## Problem 4. Color Europe with Three Colors"
   ]
  },
  {
   "cell_type": "code",
   "execution_count": 30,
   "metadata": {},
   "outputs": [],
   "source": [
    "europe_solution = color_map(europe_graph, [\"red\", \"blue\", \"green\"], trace=False)"
   ]
  },
  {
   "cell_type": "markdown",
   "metadata": {},
   "source": [
    "## Test Europe Solution"
   ]
  },
  {
   "cell_type": "code",
   "execution_count": 31,
   "metadata": {},
   "outputs": [],
   "source": [
    "if europe_solution:\n",
    "    test_coloring(europe_graph, europe_solution)"
   ]
  },
  {
   "cell_type": "markdown",
   "metadata": {},
   "source": [
    "## Draw Europe Cartoon"
   ]
  },
  {
   "cell_type": "code",
   "execution_count": 32,
   "metadata": {
    "scrolled": true
   },
   "outputs": [],
   "source": [
    "if europe_solution:\n",
    "    draw_map(\"Europe\", europe_graph, (5,4), europe_solution)"
   ]
  },
  {
   "cell_type": "markdown",
   "metadata": {},
   "source": [
    "## Before You Submit...\n",
    "\n",
    "1. Re-read the general instructions provided above, and\n",
    "2. Hit \"Kernel\"->\"Restart & Run All\"."
   ]
  }
 ],
 "metadata": {
  "kernelspec": {
   "display_name": "Python 3 (ipykernel)",
   "language": "python",
   "name": "python3"
  },
  "language_info": {
   "codemirror_mode": {
    "name": "ipython",
    "version": 3
   },
   "file_extension": ".py",
   "mimetype": "text/x-python",
   "name": "python",
   "nbconvert_exporter": "python",
   "pygments_lexer": "ipython3",
   "version": "3.11.5"
  },
  "toc": {
   "colors": {
    "hover_highlight": "#DAA520",
    "navigate_num": "#000000",
    "navigate_text": "#333333",
    "running_highlight": "#FF0000",
    "selected_highlight": "#FFD700",
    "sidebar_border": "#EEEEEE",
    "wrapper_background": "#FFFFFF"
   },
   "moveMenuLeft": true,
   "nav_menu": {
    "height": "135px",
    "width": "252px"
   },
   "navigate_menu": true,
   "number_sections": true,
   "sideBar": true,
   "threshold": 4,
   "toc_cell": false,
   "toc_section_display": "block",
   "toc_window_display": false,
   "widenNotebook": false
  }
 },
 "nbformat": 4,
 "nbformat_minor": 4
}
